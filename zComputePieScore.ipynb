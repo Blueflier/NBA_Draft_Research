{
 "cells": [
  {
   "cell_type": "code",
   "execution_count": 1,
   "id": "d5b83a7e",
   "metadata": {
    "scrolled": true
   },
   "outputs": [],
   "source": [
    "import numpy as np\n",
    "def getPlayerGames(Id, season = '2021', seasonType = 'Regular Season'):\n",
    "    from nba_api.stats.endpoints import playergamelog\n",
    "    career = playergamelog.PlayerGameLog(player_id = Id , season = season, \n",
    "                                           season_type_all_star = seasonType)\n",
    "    return career.get_data_frames()[0]\n",
    "\n",
    "game_id = getPlayerGames('203076', '2016')[\"Game_ID\"].to_numpy()\n",
    "game_id\n",
    "\n",
    "def getDraftPickID(season = '2021', overall_pick = None, top_picks = None):\n",
    "    from nba_api.stats.endpoints import drafthistory\n",
    "    lastDraft = drafthistory.DraftHistory(season_year_nullable = season, \n",
    "                                          overall_pick_nullable = overall_pick, topx_nullable = top_picks)\n",
    "    data = lastDraft.get_dict()\n",
    "    results = data[\"resultSets\"][0]\n",
    "    player_data = results[\"rowSet\"][0]\n",
    "    return player_data[0]\n",
    "\n",
    "def ComputePlayerPIE(Id, season = '2021', seasonType = 'Regular Season'):\n",
    "    from nba_api.stats.endpoints import boxscoreadvancedv2, playergamelog\n",
    "    import numpy as np\n",
    "    import time\n",
    "    \n",
    "    player_log = playergamelog.PlayerGameLog(player_id = Id , season = season, \n",
    "                                           season_type_all_star = seasonType)\n",
    "    \n",
    "    player_log_df = player_log.get_data_frames()[0]\n",
    "    game_ids = player_log_df[\"Game_ID\"].to_numpy()\n",
    "    player_season_PIE = []\n",
    "    team_season_PIE = []\n",
    "    \n",
    "    for ID in game_ids:\n",
    "        time.sleep(1)\n",
    "        career = boxscoreadvancedv2.BoxScoreAdvancedV2(game_id = ID)\n",
    "        player_boxscore = career.get_data_frames()[0]\n",
    "        player_id_array = player_boxscore['PLAYER_ID'].to_numpy()\n",
    "        player_row = np.where(player_id_array == int(Id))[0][0]\n",
    "        player_box = player_boxscore.iloc[[player_row]]\n",
    "        player_game_pie = player_box['PIE'][player_row]\n",
    "        player_season_PIE.append(player_game_pie)\n",
    "        \n",
    "        team_boxscore = career.get_data_frames()[1]\n",
    "        team_id_array = team_boxscore['TEAM_ID']\n",
    "        team_id = player_box['TEAM_ID'][player_row]\n",
    "        team_row = np.where(team_id_array == team_id)[0][0]\n",
    "        team_box = team_boxscore.iloc[[team_row]]\n",
    "        team_game_pie = team_box['PIE'][team_row]\n",
    "        team_season_PIE.append(team_game_pie)\n",
    "        \n",
    "    #print(player_season_PIE)\n",
    "    player_PIE = sum(player_season_PIE) / len(player_season_PIE)\n",
    "    team_PIE = sum(team_season_PIE) / len(team_season_PIE)\n",
    "    \n",
    "    return player_PIE, team_PIE\n",
    "\n",
    "#player_id = getDraftPickID(season = '2009', overall_pick = '3')\n",
    "#ComputePlayerPIE(player_id, '2015')\n"
   ]
  },
  {
   "cell_type": "code",
   "execution_count": 8,
   "id": "0efc2afa",
   "metadata": {},
   "outputs": [
    {
     "name": "stdout",
     "output_type": "stream",
     "text": [
      "<class 'int'>\n"
     ]
    }
   ],
   "source": [
    "player_id = getDraftPickID(season = '2009', overall_pick = '3')\n",
    "print(type(player_id))\n",
    "#ComputePlayerPIE(player_id, '2015')[0]\n"
   ]
  },
  {
   "cell_type": "code",
   "execution_count": 7,
   "id": "5418bd35",
   "metadata": {},
   "outputs": [
    {
     "name": "stdout",
     "output_type": "stream",
     "text": [
      "34.6 176.10000000000002 0.1964792731402612 0.021454882896358746\n"
     ]
    }
   ],
   "source": [
    "def getPlayerStats(Id,league = 'nba'):\n",
    "    from nba_api.stats.endpoints import playercareerstats\n",
    "    career = playercareerstats.PlayerCareerStats(per_mode36 = 'PerGame',player_id=Id)\n",
    "    if league == 'college':\n",
    "        #career = playercareerstats._init_(career_totals_college_season)\n",
    "        return career.season_totals_college_season.get_data_frame()\n",
    "    else:\n",
    "        return career.season_totals_regular_season.get_data_frame()\n",
    "    \n",
    "#player_id = getDraftPickID(season = '2009', overall_pick = '3')\n",
    "#getPlayerStats(player_id)\n",
    "\n",
    "piea = (29+8.7+8.8-19.7+5.3+(.5*0.8)+7.5+1.7+(.5*.6)-2.8-4.6)\n",
    "pieb = ((106.5+106.4)+(37.7+39)+(20.4+18.6)-(83.5+85.1)-(29.4+24.6)+(31.7+32.8)+(.5*(11.3+11.8))+(22.2+24.6)+(10+9)+(.5*(5.2+4.9))-(21.8+22.5)-(15.9+16.6))\n",
    "print(piea, pieb, piea/pieb, (piea/pieb)-0.17502439024390246 )"
   ]
  }
 ],
 "metadata": {
  "kernelspec": {
   "display_name": "Python 3 (ipykernel)",
   "language": "python",
   "name": "python3"
  },
  "language_info": {
   "codemirror_mode": {
    "name": "ipython",
    "version": 3
   },
   "file_extension": ".py",
   "mimetype": "text/x-python",
   "name": "python",
   "nbconvert_exporter": "python",
   "pygments_lexer": "ipython3",
   "version": "3.8.13"
  }
 },
 "nbformat": 4,
 "nbformat_minor": 5
}
