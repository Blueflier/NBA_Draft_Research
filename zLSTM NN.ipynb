{
 "cells": [
  {
   "cell_type": "code",
   "execution_count": null,
   "id": "34727a1a",
   "metadata": {},
   "outputs": [],
   "source": [
    "import numpy as np\n",
    "import tensorflow as tf\n",
    "import matplotlib.pyplot as plt\n",
    "from io import StringIO\n",
    "from sklearn import svm\n",
    "from sklearn.svm import SVC\n",
    "from sklearn.decomposition import PCA\n",
    "from sklearn.model_selection import KFold\n",
    "from tensorflow import keras"
   ]
  },
  {
   "cell_type": "code",
   "execution_count": null,
   "id": "14d494aa",
   "metadata": {},
   "outputs": [],
   "source": [
    "model1=keras.Sequential([ \n",
    "    #keras.layers.Dense(100, activation=\"relu\"),\n",
    "    keras.layers.Dense(30, activation=\"relu\"),\n",
    "    keras.layers.Dense(10, activation=\"softmax\")\n",
    "])\n",
    "model1.compile(optimizer=\"adam\", loss=\"sparse_categorical_crossentropy\", metrics=[\"accuracy\"])\n",
    "\n",
    "model1.fit(trainxn, trainy, epochs=10)\n",
    "\n",
    "test_loss, test_acc=model1.evaluate(testxn,testy)\n",
    "print(\"Testing set loss :  %.3f\"%test_loss)\n",
    "Eout.append((100-(100*test_acc)))\n",
    "print(\"Testing set error :  %.2f\"%(100-(100*test_acc)), \"%\")"
   ]
  }
 ],
 "metadata": {
  "kernelspec": {
   "display_name": "Python 3",
   "language": "python",
   "name": "python3"
  },
  "language_info": {
   "codemirror_mode": {
    "name": "ipython",
    "version": 3
   },
   "file_extension": ".py",
   "mimetype": "text/x-python",
   "name": "python",
   "nbconvert_exporter": "python",
   "pygments_lexer": "ipython3",
   "version": "3.7.13"
  }
 },
 "nbformat": 4,
 "nbformat_minor": 5
}
