{
 "cells": [
  {
   "cell_type": "code",
   "execution_count": 72,
   "id": "fe401cf0",
   "metadata": {},
   "outputs": [],
   "source": [
    "def ComputePlayerPIE(Id, season = '2021', seasonType = 'Regular Season'):\n",
    "    from nba_api.stats.endpoints import boxscoreadvancedv2, playergamelog\n",
    "    import numpy as np\n",
    "    import time\n",
    "    \n",
    "    player_log_df = playergamelog.PlayerGameLog(player_id = Id , season = season, \n",
    "                                           season_type_all_star = seasonType).get_data_frames()[0]\n",
    "    \n",
    "    if not player_log_df.empty:\n",
    "        game_ids = player_log_df[\"Game_ID\"].to_numpy()\n",
    "        player_season_PIE = []\n",
    "        team_season_PIE = []\n",
    "\n",
    "        for ID in game_ids:\n",
    "            time.sleep(1)\n",
    "            career = boxscoreadvancedv2.BoxScoreAdvancedV2(game_id = ID)\n",
    "            player_boxscore = career.get_data_frames()[0]\n",
    "            player_id_array = player_boxscore['PLAYER_ID'].to_numpy()\n",
    "            player_row = np.where(player_id_array == int(Id))[0][0]\n",
    "            player_box = player_boxscore.iloc[[player_row]]\n",
    "            player_game_pie = player_box['PIE'][player_row]\n",
    "            player_season_PIE.append(player_game_pie)\n",
    "\n",
    "            team_boxscore = career.get_data_frames()[1]\n",
    "            team_id_array = team_boxscore['TEAM_ID']\n",
    "            team_id = player_box['TEAM_ID'][player_row]\n",
    "            team_row = np.where(team_id_array == team_id)[0][0]\n",
    "            team_box = team_boxscore.iloc[[team_row]]\n",
    "            team_game_pie = team_box['PIE'][team_row]\n",
    "            team_season_PIE.append(team_game_pie)\n",
    "\n",
    "        #print(player_season_PIE)\n",
    "        player_PIE = sum(player_season_PIE) / len(player_season_PIE)\n",
    "        team_PIE = sum(team_season_PIE) / len(team_season_PIE)\n",
    "    else:\n",
    "        player_PIE = 0\n",
    "        team_PIE = 0\n",
    "    \n",
    "    return player_PIE, team_PIE"
   ]
  },
  {
   "cell_type": "code",
   "execution_count": 54,
   "id": "4d25137b",
   "metadata": {},
   "outputs": [
    {
     "name": "stdout",
     "output_type": "stream",
     "text": [
      "['2005' '2005' '2005' ... '2021' '2021' '2021']\n"
     ]
    }
   ],
   "source": [
    "import pandas as pd\n",
    "import numpy as np\n",
    "from nba_api.stats.endpoints import commonplayerinfo\n",
    "#just change the file path\n",
    "physical_attributes = pd.read_csv('/Users/Tim/Documents/GitHub/NBA-Draft-Biola-Summer-Research/draft_data_2000_2016_no_empty_cells.csv')\n",
    "\n",
    "#display(physical_attributes)\n",
    "\n",
    "player_ids = physical_attributes[\"PLAYER_ID\"].to_numpy()\n",
    "draft_class = np.add(physical_attributes[\"DRAFT_CLASS\"].to_numpy(),5).astype(str)\n",
    "player_pies = []\n",
    "\n",
    "#print(draft_class)\n",
    "#player_ids_int = player_ids.astype(int)\n",
    "\n",
    "for pid, draft_year in zip(player_ids, draft_class):\n",
    "    \n",
    "    pid_pie = ComputePlayerPIE(pid,draft_year)[0]\n",
    "    player_pies.append(pid_pie)\n",
    "    \n",
    "data_dict = {}\n",
    "name1 = PIE_SCORES\n",
    "name2 = PLAYER_ID\n",
    "\n",
    "data_dict[name2] = player_ids\n",
    "data_dict[name1] = player_pies\n",
    "#print(player_pies)\n",
    "df = pd.DataFrame(data = data_dict)\n",
    "\n",
    "df.to_csv('draft_data_5_year_pie_score.csv', index=False)\n",
    "#display(df)"
   ]
  }
 ],
 "metadata": {
  "kernelspec": {
   "display_name": "Python 3",
   "language": "python",
   "name": "python3"
  },
  "language_info": {
   "codemirror_mode": {
    "name": "ipython",
    "version": 3
   },
   "file_extension": ".py",
   "mimetype": "text/x-python",
   "name": "python",
   "nbconvert_exporter": "python",
   "pygments_lexer": "ipython3",
   "version": "3.7.13"
  }
 },
 "nbformat": 4,
 "nbformat_minor": 5
}
