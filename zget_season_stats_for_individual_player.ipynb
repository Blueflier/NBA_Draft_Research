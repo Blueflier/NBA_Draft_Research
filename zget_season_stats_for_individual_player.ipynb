{
 "cells": [
  {
   "cell_type": "code",
   "execution_count": 3,
   "id": "9cf9279c",
   "metadata": {},
   "outputs": [],
   "source": [
    "import numpy as np"
   ]
  },
  {
   "cell_type": "code",
   "execution_count": 4,
   "id": "c659fae9",
   "metadata": {},
   "outputs": [
    {
     "data": {
      "text/plain": [
       "array([['22016', '201935', '0021601224', ..., '27', '19', '1'],\n",
       "       ['22016', '201935', '0021601210', ..., '14', '-27', '1'],\n",
       "       ['22016', '201935', '0021601200', ..., '35', '7', '1'],\n",
       "       ...,\n",
       "       ['22016', '201935', '0021600023', ..., '26', '7', '1'],\n",
       "       ['22016', '201935', '0021600013', ..., '34', '10', '1'],\n",
       "       ['0.0', '0.0', '0.0', ..., '0.0', '0.0', '0.0']], dtype='<U32')"
      ]
     },
     "execution_count": 4,
     "metadata": {},
     "output_type": "execute_result"
    }
   ],
   "source": [
    "def getIDfromName(name):\n",
    "    from nba_api.stats.static import players\n",
    "    current = players.find_players_by_full_name(name)\n",
    "    return current[0][\"id\"]\n",
    "\n",
    "def getCareerFrom_ID_and_season(ID, season_year, seasonType = \"Regular Season\"): #string, string\n",
    "    from nba_api.stats.endpoints import playergamelog\n",
    "    career_this_season = playergamelog.PlayerGameLog(ID, season_year, 'Regular Season')\n",
    "    #print(type(career_this_season))\n",
    "    return career_this_season.get_data_frames()[0]\n",
    "\n",
    "def getColHeaders(df):\n",
    "    list_string = []\n",
    "    for col in df.columns:\n",
    "        list_string.append(col)\n",
    "    return list_string\n",
    "\n",
    "def fillGames_withData(array):\n",
    "    a = np.zeros((82,27))\n",
    "    a = a.astype(str) #converts all the elements in the zero matrix to strings\n",
    "    str_array = array.astype(str) #converts all the elements in the statistics array to strings\n",
    "    a[:str_array.shape[0], :str_array.shape[1]] = str_array #sets the subset of the zero matrix to the statistics matrix \n",
    "    return a\n",
    "\n",
    "\n",
    "\n",
    "def getArrayfrom_Name_and_Season(name, season):\n",
    "    ID = getIDfromName(name) #gets iD from name\n",
    "    career = getCareerFrom_ID_and_season(ID, season) #gets playerGameLog (not logs)\n",
    "    string = getColHeaders(career) #this gets all the column headers from the dataframe \"career\"\n",
    "    array = career[string].to_numpy() #this creates an 2D array from the dataframe\n",
    "    return fillGames_withData(array) #my hope with this functio to create the 82 game array with 0's for missing games\n",
    "    \n",
    "\n",
    "\n",
    "getArrayfrom_Name_and_Season(\"James Harden\", 2016)"
   ]
  },
  {
   "cell_type": "code",
   "execution_count": null,
   "id": "22e5b9e2",
   "metadata": {},
   "outputs": [],
   "source": []
  }
 ],
 "metadata": {
  "kernelspec": {
   "display_name": "Python 3",
   "language": "python",
   "name": "python3"
  },
  "language_info": {
   "codemirror_mode": {
    "name": "ipython",
    "version": 3
   },
   "file_extension": ".py",
   "mimetype": "text/x-python",
   "name": "python",
   "nbconvert_exporter": "python",
   "pygments_lexer": "ipython3",
   "version": "3.7.13"
  }
 },
 "nbformat": 4,
 "nbformat_minor": 5
}
