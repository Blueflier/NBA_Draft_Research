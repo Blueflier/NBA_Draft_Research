{
 "cells": [
  {
   "cell_type": "code",
   "execution_count": 46,
   "id": "8ebf6e10",
   "metadata": {},
   "outputs": [],
   "source": [
    "import numpy as np\n",
    "import pandas\n",
    "from functools import reduce"
   ]
  },
  {
   "cell_type": "code",
   "execution_count": 3,
   "id": "92173966",
   "metadata": {},
   "outputs": [],
   "source": [
    "def getPhysicalAttributes(league,season):\n",
    "    import numpy as np\n",
    "    import pandas as pd\n",
    "    from functools import reduce\n",
    "    from nba_api.stats.endpoints import draftcombineplayeranthro, draftcombinedrillresults\n",
    "    \n",
    "    draft_log_anthro = draftcombineplayeranthro.DraftCombinePlayerAnthro(league_id = league, season_year = season)\n",
    "    draft_log_com_results = draftcombinedrillresults.DraftCombineDrillResults(league_id = league, season_year = season)\n",
    "    \n",
    "    df_anthro = draft_log_anthro.get_data_frames()[0]\n",
    "    df_com_results = draft_log_com_results.get_data_frames()[0]\n",
    "    df_anthro = df_anthro.replace(to_replace='None', value=np.nan).dropna(how='all',subset=['HEIGHT_WO_SHOES', 'HEIGHT_WO_SHOES_FT_IN', 'HEIGHT_W_SHOES', 'HEIGHT_W_SHOES_FT_IN', \n",
    "                                                                                  'WEIGHT', 'WINGSPAN', 'WINGSPAN_FT_IN', 'STANDING_REACH', 'STANDING_REACH_FT_IN', \n",
    "                                                                                  'BODY_FAT_PCT', 'HAND_LENGTH', 'HAND_WIDTH'])\n",
    "    df_com_results = df_com_results.replace(to_replace='None', value=np.nan).dropna(how='all',subset=['STANDING_VERTICAL_LEAP', 'MAX_VERTICAL_LEAP', 'LANE_AGILITY_TIME', \n",
    "                                                                                            'MODIFIED_LANE_AGILITY_TIME', 'THREE_QUARTER_SPRINT', 'BENCH_PRESS'])\n",
    "    \n",
    "    #df_anthro = df_anthro.dropna()\n",
    "    #df_com_results = df_com_results.dropna()#\n",
    "    \n",
    "    Ids = df_com_results[\"PLAYER_ID\"].to_numpy()\n",
    "    df_anthro = df_anthro.loc[df_anthro['PLAYER_ID'].isin(Ids)]\n",
    "    \n",
    "    final_df = pd.merge(left=df_com_results, right=df_anthro, left_on='PLAYER_ID', right_on='PLAYER_ID')\n",
    "    final_df = final_df.drop(['TEMP_PLAYER_ID_y','FIRST_NAME_y','LAST_NAME_y','PLAYER_NAME_y','POSITION_y'], 1)\n",
    "    \n",
    "    draft_year = [season] * len(final_df)\n",
    "    final_df['DRAFT_CLASS'] = draft_year\n",
    "    \n",
    "    return final_df\n",
    "    \n",
    "\n",
    "#df = getPhysicalAttributes('00','2000')\n",
    "#display(df, len(df))\n",
    "#df = getPhysicalAttributes('00','2016')\n",
    "#display(df, len(df))\n",
    "df = getPhysicalAttributes('00','2019')\n",
    "#display(df, len(df))\n",
    "\n"
   ]
  },
  {
   "cell_type": "code",
   "execution_count": 5,
   "id": "92c91ce2",
   "metadata": {},
   "outputs": [],
   "source": [
    "#pd.concat([s1, s2], ignore_index=True)\n",
    "\n",
    "def getData(season, league = '00'):\n",
    "    import numpy as np\n",
    "    import pandas as pd\n",
    "    if len(season) > 1:\n",
    "        initial = 0\n",
    "        for year in season:\n",
    "            if initial == 0:\n",
    "                current_df = getPhysicalAttributes(league,year)\n",
    "                initial = 1\n",
    "            else:\n",
    "                next_df = getPhysicalAttributes(league,year)\n",
    "                current_df = pd.concat([current_df, next_df], ignore_index=True)\n",
    "                \n",
    "            \n",
    "    else:\n",
    "        current_df = getPhysicalAttributes(league,season[0])\n",
    "    \n",
    "    data = current_df\n",
    "        \n",
    "    return data\n",
    "\n",
    "draft_years = ['2000','2001','2002','2003','2004','2005','2006','2007','2008','2009','2010','2011','2012','2013','2014','2015','2016']\n",
    "data = getData(draft_years)\n",
    "data.to_csv('draft_data_2000_2016.csv', index=False)\n",
    "new_data = data.dropna(how='any',axis = 1)\n",
    "new_data.to_csv('draft_data_2000_2016_no_empty_cells.csv', index=False)\n",
    "#display(new_data)"
   ]
  },
  {
   "cell_type": "code",
   "execution_count": 22,
   "id": "a6d504cd",
   "metadata": {},
   "outputs": [
    {
     "data": {
      "text/plain": [
       "array([1629627, 1629630, 1629628, 1629631, 1629636, 1629633, 1629632,\n",
       "       1629637, 1629060, 1629629, 1629661, 1629023, 1629639, 1629641,\n",
       "       1629635, 1629643, 1629638, 1629048, 1629677, 1629680, 1629634,\n",
       "       1629684, 1629647, 1629660, 1629642, 1629685, 1629662, 1629673,\n",
       "       1629640, 1629645, 1629651, 1629644, 1629035, 1628981, 1629712,\n",
       "       1628998, 1629686, 1629655, 1629346, 1629713, 1629672, 1629678,\n",
       "       1629669, 1629626, 1629676, 1629659, 1629649, 1629611, 1629683,\n",
       "       1629714, 1629682, 1629667, 1629625, 1629621, 1629657, 1628986,\n",
       "       1629648, 1629671, 1629608, 1629079], dtype=int64)"
      ]
     },
     "execution_count": 22,
     "metadata": {},
     "output_type": "execute_result"
    }
   ],
   "source": [
    "def getDraftIDs(season = '2021', league = '00'):\n",
    "    import numpy as np\n",
    "    import pandas\n",
    "    from nba_api.stats.endpoints import drafthistory\n",
    "    lastDraft = drafthistory.DraftHistory(season_year_nullable = season, league_id = league)\n",
    "    data = lastDraft.get_data_frames()[0]\n",
    "    player_ids = data[\"PERSON_ID\"].to_numpy()\n",
    "    return player_ids\n",
    "\n",
    "getDraftIDs(season ='2019')"
   ]
  }
 ],
 "metadata": {
  "kernelspec": {
   "display_name": "Python 3",
   "language": "python",
   "name": "python3"
  },
  "language_info": {
   "codemirror_mode": {
    "name": "ipython",
    "version": 3
   },
   "file_extension": ".py",
   "mimetype": "text/x-python",
   "name": "python",
   "nbconvert_exporter": "python",
   "pygments_lexer": "ipython3",
   "version": "3.7.13"
  }
 },
 "nbformat": 4,
 "nbformat_minor": 5
}
