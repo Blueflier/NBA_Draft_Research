{
 "cells": [
  {
   "cell_type": "code",
   "execution_count": 2,
   "id": "f5c544ad",
   "metadata": {},
   "outputs": [
    {
     "name": "stderr",
     "output_type": "stream",
     "text": [
      "Using TensorFlow backend.\n"
     ]
    }
   ],
   "source": [
    "import numpy as np\n",
    "import pandas as pd\n",
    "import tensorflow as tf\n",
    "from tensorflow import keras\n",
    "import matplotlib.pyplot as plt\n",
    "from keras.optimizers import SGD\n"
   ]
  },
  {
   "cell_type": "code",
   "execution_count": 3,
   "id": "204bf2b1",
   "metadata": {},
   "outputs": [
    {
     "data": {
      "text/html": [
       "<div>\n",
       "<style scoped>\n",
       "    .dataframe tbody tr th:only-of-type {\n",
       "        vertical-align: middle;\n",
       "    }\n",
       "\n",
       "    .dataframe tbody tr th {\n",
       "        vertical-align: top;\n",
       "    }\n",
       "\n",
       "    .dataframe thead th {\n",
       "        text-align: right;\n",
       "    }\n",
       "</style>\n",
       "<table border=\"1\" class=\"dataframe\">\n",
       "  <thead>\n",
       "    <tr style=\"text-align: right;\">\n",
       "      <th></th>\n",
       "      <th>POSITION_x</th>\n",
       "      <th>HEIGHT_WO_SHOES</th>\n",
       "      <th>WEIGHT</th>\n",
       "      <th>WINGSPAN</th>\n",
       "      <th>STANDING_REACH</th>\n",
       "      <th>DRAFT_CLASS</th>\n",
       "      <th>PLAYER_AGE</th>\n",
       "      <th>GP</th>\n",
       "      <th>GS</th>\n",
       "      <th>MIN</th>\n",
       "      <th>...</th>\n",
       "      <th>REB</th>\n",
       "      <th>AST</th>\n",
       "      <th>STL</th>\n",
       "      <th>BLK</th>\n",
       "      <th>TOV</th>\n",
       "      <th>PF</th>\n",
       "      <th>PTS</th>\n",
       "      <th>5th_YR_SALARY</th>\n",
       "      <th>grades</th>\n",
       "      <th>5YR_pie_bin</th>\n",
       "    </tr>\n",
       "  </thead>\n",
       "  <tbody>\n",
       "    <tr>\n",
       "      <th>142</th>\n",
       "      <td>2</td>\n",
       "      <td>74.75</td>\n",
       "      <td>194.4</td>\n",
       "      <td>77.00</td>\n",
       "      <td>99.0</td>\n",
       "      <td>2009</td>\n",
       "      <td>22</td>\n",
       "      <td>35</td>\n",
       "      <td>35</td>\n",
       "      <td>31.9</td>\n",
       "      <td>...</td>\n",
       "      <td>5.5</td>\n",
       "      <td>2.1</td>\n",
       "      <td>1.6</td>\n",
       "      <td>0.4</td>\n",
       "      <td>1.8</td>\n",
       "      <td>2.1</td>\n",
       "      <td>21.1</td>\n",
       "      <td>8050000</td>\n",
       "      <td>85</td>\n",
       "      <td>average</td>\n",
       "    </tr>\n",
       "    <tr>\n",
       "      <th>144</th>\n",
       "      <td>3</td>\n",
       "      <td>79.25</td>\n",
       "      <td>216.0</td>\n",
       "      <td>87.25</td>\n",
       "      <td>108.5</td>\n",
       "      <td>2010</td>\n",
       "      <td>19</td>\n",
       "      <td>31</td>\n",
       "      <td>30</td>\n",
       "      <td>31.3</td>\n",
       "      <td>...</td>\n",
       "      <td>10.7</td>\n",
       "      <td>1.3</td>\n",
       "      <td>1.4</td>\n",
       "      <td>1.4</td>\n",
       "      <td>3.2</td>\n",
       "      <td>2.9</td>\n",
       "      <td>15.8</td>\n",
       "      <td>981084</td>\n",
       "      <td>96</td>\n",
       "      <td>average</td>\n",
       "    </tr>\n",
       "    <tr>\n",
       "      <th>145</th>\n",
       "      <td>3</td>\n",
       "      <td>79.50</td>\n",
       "      <td>217.8</td>\n",
       "      <td>83.25</td>\n",
       "      <td>104.5</td>\n",
       "      <td>2010</td>\n",
       "      <td>21</td>\n",
       "      <td>34</td>\n",
       "      <td>34</td>\n",
       "      <td>37.1</td>\n",
       "      <td>...</td>\n",
       "      <td>8.9</td>\n",
       "      <td>2.1</td>\n",
       "      <td>1.0</td>\n",
       "      <td>0.8</td>\n",
       "      <td>2.4</td>\n",
       "      <td>2.6</td>\n",
       "      <td>21.9</td>\n",
       "      <td>981084</td>\n",
       "      <td>94</td>\n",
       "      <td>average</td>\n",
       "    </tr>\n",
       "    <tr>\n",
       "      <th>146</th>\n",
       "      <td>1</td>\n",
       "      <td>72.25</td>\n",
       "      <td>191.6</td>\n",
       "      <td>79.50</td>\n",
       "      <td>98.0</td>\n",
       "      <td>2010</td>\n",
       "      <td>20</td>\n",
       "      <td>37</td>\n",
       "      <td>35</td>\n",
       "      <td>30.3</td>\n",
       "      <td>...</td>\n",
       "      <td>3.1</td>\n",
       "      <td>2.9</td>\n",
       "      <td>1.4</td>\n",
       "      <td>0.3</td>\n",
       "      <td>3.0</td>\n",
       "      <td>2.2</td>\n",
       "      <td>11.3</td>\n",
       "      <td>12173913</td>\n",
       "      <td>90</td>\n",
       "      <td>max</td>\n",
       "    </tr>\n",
       "    <tr>\n",
       "      <th>147</th>\n",
       "      <td>4</td>\n",
       "      <td>78.25</td>\n",
       "      <td>235.8</td>\n",
       "      <td>81.75</td>\n",
       "      <td>106.0</td>\n",
       "      <td>2010</td>\n",
       "      <td>22</td>\n",
       "      <td>32</td>\n",
       "      <td>32</td>\n",
       "      <td>30.8</td>\n",
       "      <td>...</td>\n",
       "      <td>8.4</td>\n",
       "      <td>2.5</td>\n",
       "      <td>1.3</td>\n",
       "      <td>1.4</td>\n",
       "      <td>1.9</td>\n",
       "      <td>2.0</td>\n",
       "      <td>15.2</td>\n",
       "      <td>5000000</td>\n",
       "      <td>90</td>\n",
       "      <td>above average</td>\n",
       "    </tr>\n",
       "    <tr>\n",
       "      <th>...</th>\n",
       "      <td>...</td>\n",
       "      <td>...</td>\n",
       "      <td>...</td>\n",
       "      <td>...</td>\n",
       "      <td>...</td>\n",
       "      <td>...</td>\n",
       "      <td>...</td>\n",
       "      <td>...</td>\n",
       "      <td>...</td>\n",
       "      <td>...</td>\n",
       "      <td>...</td>\n",
       "      <td>...</td>\n",
       "      <td>...</td>\n",
       "      <td>...</td>\n",
       "      <td>...</td>\n",
       "      <td>...</td>\n",
       "      <td>...</td>\n",
       "      <td>...</td>\n",
       "      <td>...</td>\n",
       "      <td>...</td>\n",
       "      <td>...</td>\n",
       "    </tr>\n",
       "    <tr>\n",
       "      <th>393</th>\n",
       "      <td>2</td>\n",
       "      <td>76.00</td>\n",
       "      <td>210.4</td>\n",
       "      <td>82.75</td>\n",
       "      <td>102.0</td>\n",
       "      <td>2016</td>\n",
       "      <td>22</td>\n",
       "      <td>31</td>\n",
       "      <td>30</td>\n",
       "      <td>33.0</td>\n",
       "      <td>...</td>\n",
       "      <td>7.5</td>\n",
       "      <td>7.8</td>\n",
       "      <td>1.0</td>\n",
       "      <td>0.2</td>\n",
       "      <td>2.7</td>\n",
       "      <td>1.7</td>\n",
       "      <td>19.2</td>\n",
       "      <td>0</td>\n",
       "      <td>91</td>\n",
       "      <td>average</td>\n",
       "    </tr>\n",
       "    <tr>\n",
       "      <th>394</th>\n",
       "      <td>1</td>\n",
       "      <td>75.25</td>\n",
       "      <td>210.0</td>\n",
       "      <td>80.75</td>\n",
       "      <td>100.0</td>\n",
       "      <td>2016</td>\n",
       "      <td>21</td>\n",
       "      <td>34</td>\n",
       "      <td>32</td>\n",
       "      <td>32.3</td>\n",
       "      <td>...</td>\n",
       "      <td>3.6</td>\n",
       "      <td>5.1</td>\n",
       "      <td>1.2</td>\n",
       "      <td>1.4</td>\n",
       "      <td>3.5</td>\n",
       "      <td>2.3</td>\n",
       "      <td>18.2</td>\n",
       "      <td>0</td>\n",
       "      <td>89</td>\n",
       "      <td>minimum</td>\n",
       "    </tr>\n",
       "    <tr>\n",
       "      <th>395</th>\n",
       "      <td>3</td>\n",
       "      <td>77.75</td>\n",
       "      <td>217.8</td>\n",
       "      <td>80.25</td>\n",
       "      <td>102.0</td>\n",
       "      <td>2016</td>\n",
       "      <td>21</td>\n",
       "      <td>35</td>\n",
       "      <td>34</td>\n",
       "      <td>26.2</td>\n",
       "      <td>...</td>\n",
       "      <td>5.8</td>\n",
       "      <td>2.0</td>\n",
       "      <td>1.1</td>\n",
       "      <td>0.8</td>\n",
       "      <td>2.7</td>\n",
       "      <td>2.2</td>\n",
       "      <td>13.3</td>\n",
       "      <td>0</td>\n",
       "      <td>86</td>\n",
       "      <td>minimum</td>\n",
       "    </tr>\n",
       "    <tr>\n",
       "      <th>396</th>\n",
       "      <td>4</td>\n",
       "      <td>80.75</td>\n",
       "      <td>242.8</td>\n",
       "      <td>84.25</td>\n",
       "      <td>102.5</td>\n",
       "      <td>2016</td>\n",
       "      <td>23</td>\n",
       "      <td>36</td>\n",
       "      <td>36</td>\n",
       "      <td>33.6</td>\n",
       "      <td>...</td>\n",
       "      <td>6.3</td>\n",
       "      <td>1.5</td>\n",
       "      <td>0.4</td>\n",
       "      <td>0.8</td>\n",
       "      <td>2.1</td>\n",
       "      <td>1.8</td>\n",
       "      <td>20.4</td>\n",
       "      <td>0</td>\n",
       "      <td>84</td>\n",
       "      <td>minimum</td>\n",
       "    </tr>\n",
       "    <tr>\n",
       "      <th>397</th>\n",
       "      <td>5</td>\n",
       "      <td>82.25</td>\n",
       "      <td>234.0</td>\n",
       "      <td>87.25</td>\n",
       "      <td>108.5</td>\n",
       "      <td>2016</td>\n",
       "      <td>19</td>\n",
       "      <td>26</td>\n",
       "      <td>24</td>\n",
       "      <td>26.2</td>\n",
       "      <td>...</td>\n",
       "      <td>8.7</td>\n",
       "      <td>0.8</td>\n",
       "      <td>0.5</td>\n",
       "      <td>2.0</td>\n",
       "      <td>2.1</td>\n",
       "      <td>3.0</td>\n",
       "      <td>10.5</td>\n",
       "      <td>0</td>\n",
       "      <td>91</td>\n",
       "      <td>minimum</td>\n",
       "    </tr>\n",
       "  </tbody>\n",
       "</table>\n",
       "<p>204 rows × 31 columns</p>\n",
       "</div>"
      ],
      "text/plain": [
       "     POSITION_x  HEIGHT_WO_SHOES  WEIGHT  WINGSPAN  STANDING_REACH  \\\n",
       "142           2            74.75   194.4     77.00            99.0   \n",
       "144           3            79.25   216.0     87.25           108.5   \n",
       "145           3            79.50   217.8     83.25           104.5   \n",
       "146           1            72.25   191.6     79.50            98.0   \n",
       "147           4            78.25   235.8     81.75           106.0   \n",
       "..          ...              ...     ...       ...             ...   \n",
       "393           2            76.00   210.4     82.75           102.0   \n",
       "394           1            75.25   210.0     80.75           100.0   \n",
       "395           3            77.75   217.8     80.25           102.0   \n",
       "396           4            80.75   242.8     84.25           102.5   \n",
       "397           5            82.25   234.0     87.25           108.5   \n",
       "\n",
       "     DRAFT_CLASS  PLAYER_AGE  GP  GS   MIN  ...   REB  AST  STL  BLK  TOV  \\\n",
       "142         2009          22  35  35  31.9  ...   5.5  2.1  1.6  0.4  1.8   \n",
       "144         2010          19  31  30  31.3  ...  10.7  1.3  1.4  1.4  3.2   \n",
       "145         2010          21  34  34  37.1  ...   8.9  2.1  1.0  0.8  2.4   \n",
       "146         2010          20  37  35  30.3  ...   3.1  2.9  1.4  0.3  3.0   \n",
       "147         2010          22  32  32  30.8  ...   8.4  2.5  1.3  1.4  1.9   \n",
       "..           ...         ...  ..  ..   ...  ...   ...  ...  ...  ...  ...   \n",
       "393         2016          22  31  30  33.0  ...   7.5  7.8  1.0  0.2  2.7   \n",
       "394         2016          21  34  32  32.3  ...   3.6  5.1  1.2  1.4  3.5   \n",
       "395         2016          21  35  34  26.2  ...   5.8  2.0  1.1  0.8  2.7   \n",
       "396         2016          23  36  36  33.6  ...   6.3  1.5  0.4  0.8  2.1   \n",
       "397         2016          19  26  24  26.2  ...   8.7  0.8  0.5  2.0  2.1   \n",
       "\n",
       "      PF   PTS  5th_YR_SALARY  grades    5YR_pie_bin  \n",
       "142  2.1  21.1        8050000      85        average  \n",
       "144  2.9  15.8         981084      96        average  \n",
       "145  2.6  21.9         981084      94        average  \n",
       "146  2.2  11.3       12173913      90            max  \n",
       "147  2.0  15.2        5000000      90  above average  \n",
       "..   ...   ...            ...     ...            ...  \n",
       "393  1.7  19.2              0      91        average  \n",
       "394  2.3  18.2              0      89        minimum  \n",
       "395  2.2  13.3              0      86        minimum  \n",
       "396  1.8  20.4              0      84        minimum  \n",
       "397  3.0  10.5              0      91        minimum  \n",
       "\n",
       "[204 rows x 31 columns]"
      ]
     },
     "execution_count": 3,
     "metadata": {},
     "output_type": "execute_result"
    }
   ],
   "source": [
    "df = pd.read_csv('/Users/josephhartono/Documents/GitHub/NBA-Draft-Biola-Summer-Research/draft_data_phys_college_pie_sal_grades',index_col=[0])\n",
    "df.drop('PLAYER_ID', inplace=True, axis=1)\n",
    "df.drop('FIRST_NAME_x', inplace=True, axis=1)\n",
    "df.drop('LAST_NAME_x', inplace=True, axis=1)\n",
    "df.drop('HEIGHT_WO_SHOES_FT_IN', inplace=True, axis=1)\n",
    "df.drop('WINGSPAN_FT_IN', inplace=True, axis=1)\n",
    "df.drop('STANDING_REACH_FT_IN', inplace=True, axis=1)\n",
    "df.drop('SEASON_ID', inplace=True, axis=1)\n",
    "df.drop('LEAGUE_ID', inplace=True, axis=1)\n",
    "df.drop('ORGANIZATION_ID', inplace=True, axis=1)\n",
    "df.drop('SCHOOL_NAME', inplace=True, axis=1)\n",
    "mapping = {'PG':1,'PG-SG':1,'PG-SF':1,'PG-PF':1,'PG-C':1,\n",
    "           'SG':2,'SG-PG':2,'SG-SF':2,'SG-PF':2,'SG-C':2,\n",
    "           'SF':3,'SF-PG':3,'SF-SG':3,'SF-PF':3,'SF-C':3,\n",
    "           'PF':4,'PF-PG':4,'PF-SG':4,'PF-SF':4,'PF-C':4,\n",
    "           'C':5,'C-PG':5,'C-SG':5,'C-SF':5,'C-PF':5}\n",
    "df = df.replace({'POSITION_x':mapping})\n",
    "\n",
    "\n",
    "df.drop('PLAYER_NAME_x', inplace=True, axis=1)\n",
    "df.drop('5th_YR_SALARY_TAG', inplace=True, axis=1)\n",
    "\n",
    "df['5YR_pie_bin'] = pd.qcut(df['PIE_5_YR'],\n",
    "                        q=[0, .2, .5, .7, .90, 1],\n",
    "                        labels=['minimum', 'below average', 'average', 'above average', 'max'])\n",
    "df.drop('PIE_5_YR', inplace=True, axis=1)\n",
    "df.dropna(inplace=True)\n",
    "df"
   ]
  },
  {
   "cell_type": "code",
   "execution_count": 89,
   "id": "7253e710",
   "metadata": {},
   "outputs": [
    {
     "data": {
      "text/plain": [
       "(204, 31)"
      ]
     },
     "execution_count": 89,
     "metadata": {},
     "output_type": "execute_result"
    }
   ],
   "source": [
    "df.shape"
   ]
  },
  {
   "cell_type": "code",
   "execution_count": 110,
   "id": "d90166a4",
   "metadata": {},
   "outputs": [
    {
     "data": {
      "text/plain": [
       "Index(['POSITION_x', 'HEIGHT_WO_SHOES', 'WEIGHT', 'WINGSPAN', 'STANDING_REACH',\n",
       "       'DRAFT_CLASS', 'PLAYER_AGE', 'GP', 'GS', 'MIN', 'FGM', 'FGA', 'FG_PCT',\n",
       "       'FG3M', 'FG3A', 'FG3_PCT', 'FTM', 'FTA', 'FT_PCT', 'OREB', 'DREB',\n",
       "       'REB', 'AST', 'STL', 'BLK', 'TOV', 'PF', 'PTS', '5th_YR_SALARY',\n",
       "       'grades', '5YR_pie_bin'],\n",
       "      dtype='object')"
      ]
     },
     "execution_count": 110,
     "metadata": {},
     "output_type": "execute_result"
    }
   ],
   "source": [
    "df.columns"
   ]
  },
  {
   "cell_type": "code",
   "execution_count": 80,
   "id": "9c9bf0bc",
   "metadata": {},
   "outputs": [],
   "source": [
    "X = df.drop(columns=['5YR_pie_bin'])\n",
    "y = df['5YR_pie_bin'].values\n"
   ]
  },
  {
   "cell_type": "code",
   "execution_count": 101,
   "id": "1d5667b3",
   "metadata": {},
   "outputs": [],
   "source": [
    "from sklearn.model_selection import train_test_split\n",
    "X_train, X_test, y_train, y_test = train_test_split(X, y, test_size=0.2, random_state=1, stratify=y)"
   ]
  },
  {
   "cell_type": "code",
   "execution_count": 102,
   "id": "198fdc93",
   "metadata": {},
   "outputs": [
    {
     "data": {
      "text/plain": [
       "KNeighborsClassifier(n_neighbors=13)"
      ]
     },
     "execution_count": 102,
     "metadata": {},
     "output_type": "execute_result"
    }
   ],
   "source": [
    "from sklearn.neighbors import KNeighborsClassifier\n",
    "# Create KNN classifier\n",
    "knn = KNeighborsClassifier(n_neighbors = 13)\n",
    "# Fit the classifier to the data\n",
    "knn.fit(X_train,y_train)"
   ]
  },
  {
   "cell_type": "code",
   "execution_count": 103,
   "id": "a9574ce5",
   "metadata": {},
   "outputs": [
    {
     "data": {
      "text/plain": [
       "array(['minimum', 'average', 'average', 'average', 'minimum'],\n",
       "      dtype=object)"
      ]
     },
     "execution_count": 103,
     "metadata": {},
     "output_type": "execute_result"
    }
   ],
   "source": [
    "knn.predict(X_test)[0:5]"
   ]
  },
  {
   "cell_type": "code",
   "execution_count": 104,
   "id": "46d5743f",
   "metadata": {},
   "outputs": [
    {
     "data": {
      "text/plain": [
       "0.5609756097560976"
      ]
     },
     "execution_count": 104,
     "metadata": {},
     "output_type": "execute_result"
    }
   ],
   "source": [
    "knn.score(X_test, y_test)"
   ]
  },
  {
   "cell_type": "code",
   "execution_count": 107,
   "id": "822fd762",
   "metadata": {},
   "outputs": [
    {
     "data": {
      "text/plain": [
       "GridSearchCV(cv=5, estimator=KNeighborsClassifier(),\n",
       "             param_grid={'n_neighbors': array([ 1,  2,  3,  4,  5,  6,  7,  8,  9, 10, 11, 12, 13, 14, 15, 16, 17,\n",
       "       18, 19, 20, 21, 22, 23, 24])})"
      ]
     },
     "execution_count": 107,
     "metadata": {},
     "output_type": "execute_result"
    }
   ],
   "source": [
    "from sklearn.model_selection import GridSearchCV\n",
    "#create new a knn model\n",
    "knn2 = KNeighborsClassifier()\n",
    "#create a dictionary of all values we want to test for n_neighbors\n",
    "param_grid = {'n_neighbors': np.arange(1, 25)}\n",
    "\n",
    "\n",
    "\n",
    "\n",
    "#use gridsearch to test all values for n_neighbors\n",
    "knn_gscv = GridSearchCV(knn2, param_grid, cv=5)\n",
    "#fit model to data\n",
    "knn_gscv.fit(X, y)"
   ]
  },
  {
   "cell_type": "code",
   "execution_count": 108,
   "id": "746ca799",
   "metadata": {},
   "outputs": [
    {
     "data": {
      "text/plain": [
       "{'n_neighbors': 13}"
      ]
     },
     "execution_count": 108,
     "metadata": {},
     "output_type": "execute_result"
    }
   ],
   "source": [
    "#check top performing n_neighbors value\n",
    "knn_gscv.best_params_"
   ]
  },
  {
   "cell_type": "code",
   "execution_count": 109,
   "id": "acf78cfb",
   "metadata": {},
   "outputs": [
    {
     "ename": "NameError",
     "evalue": "name 'accuracy_score' is not defined",
     "output_type": "error",
     "traceback": [
      "\u001b[0;31m---------------------------------------------------------------------------\u001b[0m",
      "\u001b[0;31mNameError\u001b[0m                                 Traceback (most recent call last)",
      "\u001b[0;32m<ipython-input-109-00860df4a4ab>\u001b[0m in \u001b[0;36m<module>\u001b[0;34m\u001b[0m\n\u001b[0;32m----> 1\u001b[0;31m \u001b[0macc\u001b[0m \u001b[0;34m=\u001b[0m \u001b[0maccuracy_score\u001b[0m\u001b[0;34m(\u001b[0m\u001b[0mtest_label\u001b[0m\u001b[0;34m,\u001b[0m \u001b[0mpredicted\u001b[0m\u001b[0;34m)\u001b[0m\u001b[0;34m\u001b[0m\u001b[0;34m\u001b[0m\u001b[0m\n\u001b[0m",
      "\u001b[0;31mNameError\u001b[0m: name 'accuracy_score' is not defined"
     ]
    }
   ],
   "source": [
    "acc = accuracy_score(test_label, predicted)"
   ]
  },
  {
   "cell_type": "code",
   "execution_count": null,
   "id": "758e98fc",
   "metadata": {},
   "outputs": [],
   "source": []
  }
 ],
 "metadata": {
  "kernelspec": {
   "display_name": "Python 3",
   "language": "python",
   "name": "python3"
  },
  "language_info": {
   "codemirror_mode": {
    "name": "ipython",
    "version": 3
   },
   "file_extension": ".py",
   "mimetype": "text/x-python",
   "name": "python",
   "nbconvert_exporter": "python",
   "pygments_lexer": "ipython3",
   "version": "3.7.13"
  }
 },
 "nbformat": 4,
 "nbformat_minor": 5
}
